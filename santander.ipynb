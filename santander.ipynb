{
 "cells": [
  {
   "cell_type": "code",
   "execution_count": 90,
   "metadata": {},
   "outputs": [],
   "source": [
    "import sys\n",
    "import numpy as np\n",
    "import pandas as pd\n",
    "#from tqdm import tqdm\n",
    "from fastai.structured import *\n",
    "from fastai.column_data import *\n",
    "sys.path.append('../')\n",
    "from sklearn.model_selection import *\n"
   ]
  },
  {
   "cell_type": "code",
   "execution_count": 91,
   "metadata": {},
   "outputs": [],
   "source": [
    "DATA_PATH = 'data/'\n",
    "TRAIN_PATH = DATA_PATH + 'train.csv' \n",
    "TEST_PATH = DATA_PATH + 'test.csv' "
   ]
  },
  {
   "cell_type": "code",
   "execution_count": 229,
   "metadata": {},
   "outputs": [],
   "source": [
    "df_train = pd.read_csv(TRAIN_PATH, low_memory=False)\n",
    "df_test = pd.read_csv(TEST_PATH, low_memory=False)"
   ]
  },
  {
   "cell_type": "code",
   "execution_count": 230,
   "metadata": {},
   "outputs": [],
   "source": [
    "df_test = df_test.set_index('ID')"
   ]
  },
  {
   "cell_type": "code",
   "execution_count": 231,
   "metadata": {},
   "outputs": [],
   "source": [
    "df_train['target'] = np.log(df_train['target'])"
   ]
  },
  {
   "cell_type": "code",
   "execution_count": 232,
   "metadata": {},
   "outputs": [],
   "source": [
    "x, y, nas = proc_df(df_train, 'target', skip_flds=['ID'])"
   ]
  },
  {
   "cell_type": "code",
   "execution_count": 233,
   "metadata": {},
   "outputs": [],
   "source": [
    "df_train_x, df_val_x, df_train_y, df_val_y= train_test_split(x, y, test_size=0.1, random_state=42)"
   ]
  },
  {
   "cell_type": "code",
   "execution_count": 245,
   "metadata": {},
   "outputs": [],
   "source": [
    "cat_flds = []\n",
    "bs = 64"
   ]
  },
  {
   "cell_type": "code",
   "execution_count": 246,
   "metadata": {},
   "outputs": [],
   "source": [
    "model_data = ColumnarModelData.from_data_frames(\n",
    "    '.', df_train_x, df_val_x, df_train_y, df_val_y, cat_flds, bs, is_reg=True, is_multi=False, test_df=df_test)"
   ]
  },
  {
   "cell_type": "code",
   "execution_count": 247,
   "metadata": {},
   "outputs": [],
   "source": [
    "emb_szs = []\n",
    "n_cont = len(df_train_x.columns)\n",
    "emb_drop = 0.0\n",
    "out_sz = 1\n",
    "szs = [400, 50]\n",
    "drops = [0.0,0.0]"
   ]
  },
  {
   "cell_type": "code",
   "execution_count": 248,
   "metadata": {},
   "outputs": [],
   "source": [
    "learner = model_data.get_learner(emb_szs, n_cont, emb_drop, out_sz, szs, drops)"
   ]
  },
  {
   "cell_type": "code",
   "execution_count": 250,
   "metadata": {},
   "outputs": [
    {
     "data": {
      "application/vnd.jupyter.widget-view+json": {
       "model_id": "fc919d0685b04ce28dea3c90ddd2650d",
       "version_major": 2,
       "version_minor": 0
      },
      "text/plain": [
       "HBox(children=(IntProgress(value=0, description='Epoch', max=8), HTML(value='')))"
      ]
     },
     "metadata": {},
     "output_type": "display_data"
    },
    {
     "name": "stdout",
     "output_type": "stream",
     "text": [
      "                                                     \r"
     ]
    },
    {
     "data": {
      "image/png": "[encoded data removed]",
      "text/plain": [
       "<Figure size 432x576 with 2 Axes>"
      ]
     },
     "metadata": {},
     "output_type": "display_data"
    }
   ],
   "source": [
    "learner.lr_find2(start_lr=1, end_lr=1000, num_it=500)\n",
    "learner.sched.plot()"
   ]
  },
  {
   "cell_type": "code",
   "execution_count": 251,
   "metadata": {},
   "outputs": [],
   "source": [
    "learner.unfreeze()"
   ]
  },
  {
   "cell_type": "code",
   "execution_count": 253,
   "metadata": {},
   "outputs": [
    {
     "data": {
      "application/vnd.jupyter.widget-view+json": {
       "model_id": "1b26a2dd59d549929949331402a5ebaf",
       "version_major": 2,
       "version_minor": 0
      },
      "text/plain": [
       "HBox(children=(IntProgress(value=0, description='Epoch', max=10), HTML(value='')))"
      ]
     },
     "metadata": {},
     "output_type": "display_data"
    },
    {
     "name": "stdout",
     "output_type": "stream",
     "text": [
      "epoch      trn_loss   val_loss                                \n",
      "    0      42198.961375 461.706981\n",
      "    1      10468.599027 7.835425                              \n",
      "    2      2786.473553 2.845768                               \n",
      "    3      770.64678  2.851129                                \n",
      "    4      217.551365 2.833606                           \n",
      "    5      63.442561  2.86108                             \n",
      "    6      20.162064  2.832352                            \n",
      "    7      8.393138   2.844236                            \n",
      "    8      5.006428   2.831659                            \n",
      "    9      3.983363   2.881005                            \n"
     ]
    },
    {
     "data": {
      "text/plain": [
       "[array([2.88101])]"
      ]
     },
     "execution_count": 253,
     "metadata": {},
     "output_type": "execute_result"
    }
   ],
   "source": [
    "lr = 2000\n",
    "learner.fit(lr, 10, cycle_len=1)"
   ]
  },
  {
   "cell_type": "code",
   "execution_count": 254,
   "metadata": {},
   "outputs": [
    {
     "data": {
      "application/vnd.jupyter.widget-view+json": {
       "model_id": "c702e16453934ba8911381ca4fd7cb86",
       "version_major": 2,
       "version_minor": 0
      },
      "text/plain": [
       "HBox(children=(IntProgress(value=0, description='Epoch', max=20), HTML(value='')))"
      ]
     },
     "metadata": {},
     "output_type": "display_data"
    },
    {
     "name": "stdout",
     "output_type": "stream",
     "text": [
      "epoch      trn_loss   val_loss                            \n",
      "    0      3.079507   2.833066  \n",
      "    1      3.123246   2.829848                            \n",
      "    2      3.094381   2.832597                            \n",
      "    3      3.088666   2.830246                            \n",
      "    4      3.108702   2.83096                             \n",
      "    5      3.085965   2.834398                            \n",
      "    6      3.088766   2.840131                            \n",
      "    7      3.093017   2.830149                            \n",
      "    8      3.111632   2.830212                            \n",
      "    9      3.080652   2.835121                            \n",
      "    10     3.117236   2.831004                            \n",
      "    11     3.089574   2.82971                             \n",
      "    12     3.08811    2.829993                            \n",
      "    13     3.097826   2.829755                            \n",
      "    14     3.107365   2.831349                            \n",
      "    15     3.112074   2.830291                            \n",
      "    16     3.089337   2.830022                            \n",
      "    17     3.124524   2.830567                            \n",
      "    18     3.120715   2.830815                            \n",
      "    19     3.105709   2.831371                            \n"
     ]
    },
    {
     "data": {
      "text/plain": [
       "[array([2.83137])]"
      ]
     },
     "execution_count": 254,
     "metadata": {},
     "output_type": "execute_result"
    }
   ],
   "source": [
    "lr = 0.1\n",
    "learner.fit(lr, 10, cycle_len=2)"
   ]
  },
  {
   "cell_type": "code",
   "execution_count": 255,
   "metadata": {},
   "outputs": [],
   "source": [
    "preds = learner.predict(is_test = True)"
   ]
  },
  {
   "cell_type": "code",
   "execution_count": 283,
   "metadata": {},
   "outputs": [],
   "source": [
    "df_submission = pd.DataFrame(columns=['ID','target'])\n",
    "df_submission['ID'] = df_test.index\n",
    "df_submission['target'] = np.exp(preds)"
   ]
  },
  {
   "cell_type": "code",
   "execution_count": 284,
   "metadata": {},
   "outputs": [],
   "source": [
    "df_submission.to_csv('submission.csv', index = False)"
   ]
  },
  {
   "cell_type": "code",
   "execution_count": 285,
   "metadata": {},
   "outputs": [
    {
     "data": {
      "text/html": [
       "<div>\n",
       "<style scoped>\n",
       "    .dataframe tbody tr th:only-of-type {\n",
       "        vertical-align: middle;\n",
       "    }\n",
       "\n",
       "    .dataframe tbody tr th {\n",
       "        vertical-align: top;\n",
       "    }\n",
       "\n",
       "    .dataframe thead th {\n",
       "        text-align: right;\n",
       "    }\n",
       "</style>\n",
       "<table border=\"1\" class=\"dataframe\">\n",
       "  <thead>\n",
       "    <tr style=\"text-align: right;\">\n",
       "      <th></th>\n",
       "      <th>ID</th>\n",
       "      <th>target</th>\n",
       "    </tr>\n",
       "  </thead>\n",
       "  <tbody>\n",
       "    <tr>\n",
       "      <th>0</th>\n",
       "      <td>000137c73</td>\n",
       "      <td>1928164.875</td>\n",
       "    </tr>\n",
       "    <tr>\n",
       "      <th>1</th>\n",
       "      <td>00021489f</td>\n",
       "      <td>1928164.875</td>\n",
       "    </tr>\n",
       "    <tr>\n",
       "      <th>2</th>\n",
       "      <td>0004d7953</td>\n",
       "      <td>1928164.875</td>\n",
       "    </tr>\n",
       "    <tr>\n",
       "      <th>3</th>\n",
       "      <td>00056a333</td>\n",
       "      <td>1928164.875</td>\n",
       "    </tr>\n",
       "    <tr>\n",
       "      <th>4</th>\n",
       "      <td>00056d8eb</td>\n",
       "      <td>1928164.875</td>\n",
       "    </tr>\n",
       "    <tr>\n",
       "      <th>5</th>\n",
       "      <td>0005fc190</td>\n",
       "      <td>1928164.875</td>\n",
       "    </tr>\n",
       "    <tr>\n",
       "      <th>6</th>\n",
       "      <td>000787e86</td>\n",
       "      <td>1928164.875</td>\n",
       "    </tr>\n",
       "    <tr>\n",
       "      <th>7</th>\n",
       "      <td>0008510a0</td>\n",
       "      <td>1928164.875</td>\n",
       "    </tr>\n",
       "    <tr>\n",
       "      <th>8</th>\n",
       "      <td>000895faf</td>\n",
       "      <td>1928164.875</td>\n",
       "    </tr>\n",
       "    <tr>\n",
       "      <th>9</th>\n",
       "      <td>000986fba</td>\n",
       "      <td>1928164.875</td>\n",
       "    </tr>\n",
       "    <tr>\n",
       "      <th>10</th>\n",
       "      <td>0009efcc5</td>\n",
       "      <td>1928164.875</td>\n",
       "    </tr>\n",
       "    <tr>\n",
       "      <th>11</th>\n",
       "      <td>000dd8f00</td>\n",
       "      <td>1928164.875</td>\n",
       "    </tr>\n",
       "    <tr>\n",
       "      <th>12</th>\n",
       "      <td>000e1cdc2</td>\n",
       "      <td>1928164.875</td>\n",
       "    </tr>\n",
       "    <tr>\n",
       "      <th>13</th>\n",
       "      <td>00103739c</td>\n",
       "      <td>1928164.875</td>\n",
       "    </tr>\n",
       "    <tr>\n",
       "      <th>14</th>\n",
       "      <td>00134b367</td>\n",
       "      <td>1928164.875</td>\n",
       "    </tr>\n",
       "    <tr>\n",
       "      <th>15</th>\n",
       "      <td>001788d0d</td>\n",
       "      <td>1928164.875</td>\n",
       "    </tr>\n",
       "    <tr>\n",
       "      <th>16</th>\n",
       "      <td>0019c8ad7</td>\n",
       "      <td>1928164.875</td>\n",
       "    </tr>\n",
       "    <tr>\n",
       "      <th>17</th>\n",
       "      <td>001a267b9</td>\n",
       "      <td>1928164.875</td>\n",
       "    </tr>\n",
       "    <tr>\n",
       "      <th>18</th>\n",
       "      <td>001a85486</td>\n",
       "      <td>1928164.875</td>\n",
       "    </tr>\n",
       "    <tr>\n",
       "      <th>19</th>\n",
       "      <td>001c4de06</td>\n",
       "      <td>1928164.875</td>\n",
       "    </tr>\n",
       "    <tr>\n",
       "      <th>20</th>\n",
       "      <td>001f9014b</td>\n",
       "      <td>1928164.875</td>\n",
       "    </tr>\n",
       "    <tr>\n",
       "      <th>21</th>\n",
       "      <td>00216fb94</td>\n",
       "      <td>1928164.875</td>\n",
       "    </tr>\n",
       "    <tr>\n",
       "      <th>22</th>\n",
       "      <td>00235690e</td>\n",
       "      <td>1928164.875</td>\n",
       "    </tr>\n",
       "    <tr>\n",
       "      <th>23</th>\n",
       "      <td>00240739d</td>\n",
       "      <td>1928164.875</td>\n",
       "    </tr>\n",
       "    <tr>\n",
       "      <th>24</th>\n",
       "      <td>0024c3747</td>\n",
       "      <td>1928164.875</td>\n",
       "    </tr>\n",
       "    <tr>\n",
       "      <th>25</th>\n",
       "      <td>00297052d</td>\n",
       "      <td>1928164.875</td>\n",
       "    </tr>\n",
       "    <tr>\n",
       "      <th>26</th>\n",
       "      <td>002ab8f85</td>\n",
       "      <td>1928164.875</td>\n",
       "    </tr>\n",
       "    <tr>\n",
       "      <th>27</th>\n",
       "      <td>002bed5c0</td>\n",
       "      <td>1928164.875</td>\n",
       "    </tr>\n",
       "    <tr>\n",
       "      <th>28</th>\n",
       "      <td>002bf3974</td>\n",
       "      <td>1928164.875</td>\n",
       "    </tr>\n",
       "    <tr>\n",
       "      <th>29</th>\n",
       "      <td>002d23a26</td>\n",
       "      <td>1928164.875</td>\n",
       "    </tr>\n",
       "    <tr>\n",
       "      <th>...</th>\n",
       "      <td>...</td>\n",
       "      <td>...</td>\n",
       "    </tr>\n",
       "    <tr>\n",
       "      <th>49312</th>\n",
       "      <td>ffd52b8f2</td>\n",
       "      <td>1928164.875</td>\n",
       "    </tr>\n",
       "    <tr>\n",
       "      <th>49313</th>\n",
       "      <td>ffd6dea20</td>\n",
       "      <td>1928164.875</td>\n",
       "    </tr>\n",
       "    <tr>\n",
       "      <th>49314</th>\n",
       "      <td>ffd6e2cf8</td>\n",
       "      <td>1928164.875</td>\n",
       "    </tr>\n",
       "    <tr>\n",
       "      <th>49315</th>\n",
       "      <td>ffd6e56de</td>\n",
       "      <td>1928164.875</td>\n",
       "    </tr>\n",
       "    <tr>\n",
       "      <th>49316</th>\n",
       "      <td>ffd849299</td>\n",
       "      <td>1928164.875</td>\n",
       "    </tr>\n",
       "    <tr>\n",
       "      <th>49317</th>\n",
       "      <td>ffda13e24</td>\n",
       "      <td>1928164.875</td>\n",
       "    </tr>\n",
       "    <tr>\n",
       "      <th>49318</th>\n",
       "      <td>ffdbd30e2</td>\n",
       "      <td>1928164.875</td>\n",
       "    </tr>\n",
       "    <tr>\n",
       "      <th>49319</th>\n",
       "      <td>ffdbedc99</td>\n",
       "      <td>1928164.875</td>\n",
       "    </tr>\n",
       "    <tr>\n",
       "      <th>49320</th>\n",
       "      <td>ffe462df4</td>\n",
       "      <td>1928164.875</td>\n",
       "    </tr>\n",
       "    <tr>\n",
       "      <th>49321</th>\n",
       "      <td>ffe4c3a4b</td>\n",
       "      <td>1928164.875</td>\n",
       "    </tr>\n",
       "    <tr>\n",
       "      <th>49322</th>\n",
       "      <td>ffe511bf1</td>\n",
       "      <td>1928164.875</td>\n",
       "    </tr>\n",
       "    <tr>\n",
       "      <th>49323</th>\n",
       "      <td>ffe77e420</td>\n",
       "      <td>1928164.875</td>\n",
       "    </tr>\n",
       "    <tr>\n",
       "      <th>49324</th>\n",
       "      <td>ffe868610</td>\n",
       "      <td>1928164.875</td>\n",
       "    </tr>\n",
       "    <tr>\n",
       "      <th>49325</th>\n",
       "      <td>ffe8ed3d6</td>\n",
       "      <td>1928164.875</td>\n",
       "    </tr>\n",
       "    <tr>\n",
       "      <th>49326</th>\n",
       "      <td>ffea1065e</td>\n",
       "      <td>1928164.875</td>\n",
       "    </tr>\n",
       "    <tr>\n",
       "      <th>49327</th>\n",
       "      <td>ffea9a398</td>\n",
       "      <td>1928164.875</td>\n",
       "    </tr>\n",
       "    <tr>\n",
       "      <th>49328</th>\n",
       "      <td>ffec4707c</td>\n",
       "      <td>1928164.875</td>\n",
       "    </tr>\n",
       "    <tr>\n",
       "      <th>49329</th>\n",
       "      <td>ffecfe7f8</td>\n",
       "      <td>1928164.875</td>\n",
       "    </tr>\n",
       "    <tr>\n",
       "      <th>49330</th>\n",
       "      <td>ffed9dd0f</td>\n",
       "      <td>1928164.875</td>\n",
       "    </tr>\n",
       "    <tr>\n",
       "      <th>49331</th>\n",
       "      <td>ffee0237c</td>\n",
       "      <td>1928164.875</td>\n",
       "    </tr>\n",
       "    <tr>\n",
       "      <th>49332</th>\n",
       "      <td>ffef8aa08</td>\n",
       "      <td>1928164.875</td>\n",
       "    </tr>\n",
       "    <tr>\n",
       "      <th>49333</th>\n",
       "      <td>fff0ee67d</td>\n",
       "      <td>1928164.875</td>\n",
       "    </tr>\n",
       "    <tr>\n",
       "      <th>49334</th>\n",
       "      <td>fff2aa673</td>\n",
       "      <td>1928164.875</td>\n",
       "    </tr>\n",
       "    <tr>\n",
       "      <th>49335</th>\n",
       "      <td>fff479492</td>\n",
       "      <td>1928164.875</td>\n",
       "    </tr>\n",
       "    <tr>\n",
       "      <th>49336</th>\n",
       "      <td>fff64bf93</td>\n",
       "      <td>1928164.875</td>\n",
       "    </tr>\n",
       "    <tr>\n",
       "      <th>49337</th>\n",
       "      <td>fff73b677</td>\n",
       "      <td>1928164.875</td>\n",
       "    </tr>\n",
       "    <tr>\n",
       "      <th>49338</th>\n",
       "      <td>fff7b5923</td>\n",
       "      <td>1928164.875</td>\n",
       "    </tr>\n",
       "    <tr>\n",
       "      <th>49339</th>\n",
       "      <td>fff7c698f</td>\n",
       "      <td>1928164.875</td>\n",
       "    </tr>\n",
       "    <tr>\n",
       "      <th>49340</th>\n",
       "      <td>fff8dba89</td>\n",
       "      <td>1928164.875</td>\n",
       "    </tr>\n",
       "    <tr>\n",
       "      <th>49341</th>\n",
       "      <td>fffbe2f6f</td>\n",
       "      <td>1928164.875</td>\n",
       "    </tr>\n",
       "  </tbody>\n",
       "</table>\n",
       "<p>49342 rows × 2 columns</p>\n",
       "</div>"
      ],
      "text/plain": [
       "              ID       target\n",
       "0      000137c73  1928164.875\n",
       "1      00021489f  1928164.875\n",
       "2      0004d7953  1928164.875\n",
       "3      00056a333  1928164.875\n",
       "4      00056d8eb  1928164.875\n",
       "5      0005fc190  1928164.875\n",
       "6      000787e86  1928164.875\n",
       "7      0008510a0  1928164.875\n",
       "8      000895faf  1928164.875\n",
       "9      000986fba  1928164.875\n",
       "10     0009efcc5  1928164.875\n",
       "11     000dd8f00  1928164.875\n",
       "12     000e1cdc2  1928164.875\n",
       "13     00103739c  1928164.875\n",
       "14     00134b367  1928164.875\n",
       "15     001788d0d  1928164.875\n",
       "16     0019c8ad7  1928164.875\n",
       "17     001a267b9  1928164.875\n",
       "18     001a85486  1928164.875\n",
       "19     001c4de06  1928164.875\n",
       "20     001f9014b  1928164.875\n",
       "21     00216fb94  1928164.875\n",
       "22     00235690e  1928164.875\n",
       "23     00240739d  1928164.875\n",
       "24     0024c3747  1928164.875\n",
       "25     00297052d  1928164.875\n",
       "26     002ab8f85  1928164.875\n",
       "27     002bed5c0  1928164.875\n",
       "28     002bf3974  1928164.875\n",
       "29     002d23a26  1928164.875\n",
       "...          ...          ...\n",
       "49312  ffd52b8f2  1928164.875\n",
       "49313  ffd6dea20  1928164.875\n",
       "49314  ffd6e2cf8  1928164.875\n",
       "49315  ffd6e56de  1928164.875\n",
       "49316  ffd849299  1928164.875\n",
       "49317  ffda13e24  1928164.875\n",
       "49318  ffdbd30e2  1928164.875\n",
       "49319  ffdbedc99  1928164.875\n",
       "49320  ffe462df4  1928164.875\n",
       "49321  ffe4c3a4b  1928164.875\n",
       "49322  ffe511bf1  1928164.875\n",
       "49323  ffe77e420  1928164.875\n",
       "49324  ffe868610  1928164.875\n",
       "49325  ffe8ed3d6  1928164.875\n",
       "49326  ffea1065e  1928164.875\n",
       "49327  ffea9a398  1928164.875\n",
       "49328  ffec4707c  1928164.875\n",
       "49329  ffecfe7f8  1928164.875\n",
       "49330  ffed9dd0f  1928164.875\n",
       "49331  ffee0237c  1928164.875\n",
       "49332  ffef8aa08  1928164.875\n",
       "49333  fff0ee67d  1928164.875\n",
       "49334  fff2aa673  1928164.875\n",
       "49335  fff479492  1928164.875\n",
       "49336  fff64bf93  1928164.875\n",
       "49337  fff73b677  1928164.875\n",
       "49338  fff7b5923  1928164.875\n",
       "49339  fff7c698f  1928164.875\n",
       "49340  fff8dba89  1928164.875\n",
       "49341  fffbe2f6f  1928164.875\n",
       "\n",
       "[49342 rows x 2 columns]"
      ]
     },
     "execution_count": 285,
     "metadata": {},
     "output_type": "execute_result"
    }
   ],
   "source": [
    "df_submission"
   ]
  }
 ],
 "metadata": {
  "kernelspec": {
   "display_name": "Python 3",
   "language": "python",
   "name": "python3"
  },
  "language_info": {
   "codemirror_mode": {
    "name": "ipython",
    "version": 3
   },
   "file_extension": ".py",
   "mimetype": "text/x-python",
   "name": "python",
   "nbconvert_exporter": "python",
   "pygments_lexer": "ipython3",
   "version": "3.6.4"
  }
 },
 "nbformat": 4,
 "nbformat_minor": 2
}
